{
 "cells": [
  {
   "cell_type": "markdown",
   "metadata": {},
   "source": [
    "# IMPORTING PACKAGES / LIBRARIES"
   ]
  },
  {
   "cell_type": "code",
   "execution_count": null,
   "metadata": {},
   "outputs": [],
   "source": [
    "import re\n",
    "import nltk\n",
    "import pkg_resources\n",
    "import pickle \n",
    "import hdbscan\n",
    "import pandas as pd\n",
    "import umap.umap_ as umap\n",
    "import matplotlib.pyplot as plt\n",
    "import plotly.express as px\n",
    "import numpy as np\n",
    "import string\n",
    "\n",
    "from nltk.corpus import stopwords\n",
    "from sklearn.feature_extraction.text import CountVectorizer\n",
    "from sentence_transformers import SentenceTransformer, util\n",
    "from sklearn.manifold import TSNE\n",
    "from sklearn.metrics import silhouette_score\n",
    "from symspellpy import SymSpell, Verbosity\n",
    "from nltk.tokenize import word_tokenize\n",
    "from language_detector import detect_language\n",
    "from nltk.stem.porter import PorterStemmer\n",
    "from wordcloud import WordCloud\n",
    "from collections import Counter\n",
    "from stop_words import get_stop_words"
   ]
  },
  {
   "cell_type": "markdown",
   "metadata": {},
   "source": [
    "# DEFINING FUNCTIONS"
   ]
  },
  {
   "cell_type": "code",
   "execution_count": null,
   "metadata": {},
   "outputs": [],
   "source": [
    "def remove_punctuations(txt, punct=string.punctuation):\n",
    "    \"\"\"\n",
    "    Function for removing punctuations.\n",
    "    \"\"\"\n",
    "    return \"\".join([c for c in txt if c not in punct])\n",
    "\n",
    "def word_preprocessing(raw_text):\n",
    "    \"\"\"\n",
    "    Function for removing custom stopwords and numbers.\n",
    "    \"\"\"\n",
    "    raw_text = raw_text.replace(\"\\n\", \" \").replace(\"\\r\", \" \").replace(\"'\", \"\")\n",
    "    raw_text = remove_punctuations(raw_text)\n",
    "    letters_only_text = re.sub(\"[^a-zA-Z0-9]\", \" \", raw_text)\n",
    "    words = letters_only_text.lower().split()\n",
    "    stopword_set = set(stopwords.words(\"english\") + open(\"custom_stopwords.txt\", \"r\").read().split(\"\\n\"))\n",
    "    cleaned_words = [w for w in words if w not in stopword_set]\n",
    "    return \" \".join(cleaned_words)\n",
    "\n",
    "def save_as_pckl(obj, name):\n",
    "    with open(name, 'wb') as files:\n",
    "        pickle.dump(obj, files)\n",
    "\n",
    "def load_pickle(name):\n",
    "    pkl_object = pickle.load(open(name, 'rb'))\n",
    "    return pkl_object\n",
    "\n",
    "def tSNE_dim_reductor(sentence_embeddings,labels=None,sentences=None):\n",
    "    X = sentence_embeddings\n",
    "    X_embedded = TSNE(n_components=2).fit_transform(X)\n",
    "    df_embeddings = pd.DataFrame(X_embedded)\n",
    "    df_embeddings = df_embeddings.rename(columns={0:'x',1:'y'})\n",
    "    if labels != None:\n",
    "        df_embeddings = df_embeddings.assign(label=labels)\n",
    "    if not sentences.empty:\n",
    "        df_embeddings = df_embeddings.assign(text=sentences)\n",
    "    return df_embeddings\n",
    "\n",
    "def umap_dim_reductor(sentence_embeddings, n_neighbors):\n",
    "    umap_embeddings = umap.UMAP(\n",
    "        n_neighbors=n_neighbors, \n",
    "        n_components=2,\n",
    "        min_dist=0.0, \n",
    "        metric='cosine'\n",
    "    ).fit_transform(sentence_embeddings)\n",
    "    return umap_embeddings\n",
    "\n",
    "\n",
    "def hdbscan_clusterer(dim_reduced_embeddings, min_cluster_size):\n",
    "    clusterer = hdbscan.HDBSCAN(\n",
    "        min_cluster_size=min_cluster_size,\n",
    "        metric='euclidean',                      \n",
    "        cluster_selection_method='eom'\n",
    "        ).fit(dim_reduced_embeddings)\n",
    "    return clusterer\n",
    "\n",
    "def visualize_raw_df(dataframe, name_title):\n",
    "    fig = px.scatter(\n",
    "        dataframe, x='x', y='y',\n",
    "        hover_data=['text'], \n",
    "        title = name_title, \n",
    "    )\n",
    "    fig.show()\n",
    "    return\n",
    "    \n",
    "def visualize_clustered_df(dataframe, name_title):\n",
    "    fig = px.scatter (\n",
    "        dataframe, \n",
    "        x='x', \n",
    "        y='y',\n",
    "        color='labels', \n",
    "        symbol='labels', \n",
    "        hover_data=['text'], \n",
    "        title=name_title,\n",
    "        labels={\"labels\": \"Label\", \"labels\": \"Label\"}\n",
    "    )\n",
    "    fig.update_coloraxes(showscale=False)\n",
    "    fig.show()\n",
    "    return\n",
    "\n",
    "def get_number_of_clusters(clustered_df):\n",
    "    _labels = {}\n",
    "    for row in clustered_df:\n",
    "        label = f\"Label_{row}\" if row != -1 else \"Outliers\"\n",
    "        _labels[label] =  _labels[label] + 1 if label in _labels else 1\n",
    "    _labels = dict(sorted(_labels.items(), key=lambda item: item[1], reverse=True))\n",
    "    clusters = len(list(_labels.items()))-1\n",
    "    return _labels, clusters\n",
    "\n",
    "\n",
    "def c_tf_idf(documents, m, ngram_range=(1, 1)):\n",
    "    count = CountVectorizer(ngram_range=ngram_range, stop_words=\"english\").fit(documents)\n",
    "    t = count.transform(documents).toarray()\n",
    "    w = t.sum(axis=1)\n",
    "    tf = np.divide(t.T, w)\n",
    "    sum_t = t.sum(axis=0)\n",
    "    idf = np.log(np.divide(m, sum_t)).reshape(-1, 1)\n",
    "    tf_idf = np.multiply(tf, idf)\n",
    "    return tf_idf, count\n",
    "\n",
    "def extract_top_n_words_per_topic(tf_idf, count, docs_per_topic, n=20):\n",
    "    words = count.get_feature_names()\n",
    "    labels = list(docs_per_topic.Topic)\n",
    "    tf_idf_transposed = tf_idf.T\n",
    "    indices = tf_idf_transposed.argsort()[:, -n:]\n",
    "    top_n_words = {label: [(words[j], tf_idf_transposed[i][j]) for j in indices[i]][::-1] for i, label in enumerate(labels)}\n",
    "    return top_n_words\n",
    "\n",
    "def extract_topic_sizes(df):\n",
    "    topic_sizes = (\n",
    "        df.groupby(['Topic']).text.count().reset_index().rename(\n",
    "            {\"Topic\": \"Topic\", \"text\": \"Size\"}, \n",
    "            axis='columns'\n",
    "            ).sort_values(\"Size\", ascending=False\n",
    "        )\n",
    "    )\n",
    "    return topic_sizes\n",
    "\n",
    "def generate_word_cloud(top_n_words, topic, i):\n",
    "    words = dict((x, y) for x, y in top_n_words[topic])\n",
    "    wordcloud = WordCloud(\n",
    "        width=800, height=560,\n",
    "        background_color='black', \n",
    "        collocations=False,\n",
    "        min_font_size=10\n",
    "    ).fit_words(words)\n",
    "    # title = f\"Topic {i} | Label: {topic}\" if topic != -1 else \"Outliers\"\n",
    "    title = f\"Label: {topic}\" if topic != -1 else \"Outliers\"\n",
    "    fig = plt.figure(figsize=(4, 2.8), facecolor=None)\n",
    "    fig.suptitle(title, verticalalignment=\"baseline\")\n",
    "    plt.imshow(wordcloud)\n",
    "    plt.axis(\"off\")\n",
    "    plt.tight_layout(pad=0)"
   ]
  },
  {
   "cell_type": "markdown",
   "metadata": {},
   "source": [
    "# LOADING DATASET"
   ]
  },
  {
   "cell_type": "code",
   "execution_count": null,
   "metadata": {},
   "outputs": [],
   "source": [
    "df = pd.read_csv(\"tagalog_datasets/tagalog_newspapers/raw_news_articles_136k.csv\")\n",
    "print(f\"DATASET SHAPE: {df.shape}\")\n",
    "df.head(10)"
   ]
  },
  {
   "cell_type": "markdown",
   "metadata": {},
   "source": [
    "# PREPROCESSING"
   ]
  },
  {
   "cell_type": "markdown",
   "metadata": {},
   "source": [
    "Remove unnecessary column and rows with empty values."
   ]
  },
  {
   "cell_type": "code",
   "execution_count": null,
   "metadata": {},
   "outputs": [],
   "source": [
    "df.drop('Unnamed: 0', inplace=True, axis=1)\n",
    "df = df.dropna().reset_index(drop=True)\n",
    "print(f\"DATASET SHAPE: {df.shape}\")\n",
    "df.head()"
   ]
  },
  {
   "cell_type": "markdown",
   "metadata": {},
   "source": [
    "Removed punctuations & stopwords then write the result to a new column."
   ]
  },
  {
   "cell_type": "code",
   "execution_count": null,
   "metadata": {},
   "outputs": [],
   "source": [
    "preprocessed_sentences = [word_preprocessing(text) for text in df.Text]\n",
    "df[\"Processed\"] = preprocessed_sentences\n",
    "print(f\"DATASET SHAPE: {df.shape}\")\n",
    "df.head()"
   ]
  },
  {
   "cell_type": "markdown",
   "metadata": {},
   "source": [
    "Remove duplicate values and empty string values."
   ]
  },
  {
   "cell_type": "code",
   "execution_count": null,
   "metadata": {
    "scrolled": false
   },
   "outputs": [],
   "source": [
    "df.drop_duplicates()\n",
    "df = df[df.Processed != \"\"]\n",
    "print(f\"DATASET SHAPE: {df.shape}\")\n",
    "df.head()"
   ]
  },
  {
   "cell_type": "markdown",
   "metadata": {},
   "source": [
    "Reset index of the cleaned dataframe."
   ]
  },
  {
   "cell_type": "code",
   "execution_count": null,
   "metadata": {},
   "outputs": [],
   "source": [
    "df = df.reset_index()\n",
    "df.drop('index', inplace=True, axis=1)\n",
    "print(f\"DATASET SHAPE: {df.shape}\")\n",
    "df.head()"
   ]
  },
  {
   "cell_type": "markdown",
   "metadata": {},
   "source": [
    "Saving dataframe to csv file for future usage."
   ]
  },
  {
   "cell_type": "code",
   "execution_count": null,
   "metadata": {},
   "outputs": [],
   "source": [
    "# df.to_csv(\"tagalog_datasets/tagalog_newspapers/preprocessed_news_articles_X.csv\")"
   ]
  },
  {
   "cell_type": "markdown",
   "metadata": {},
   "source": [
    "Loading dataframe from csv file."
   ]
  },
  {
   "cell_type": "code",
   "execution_count": null,
   "metadata": {},
   "outputs": [],
   "source": [
    "df = pd.read_csv(\"tagalog_datasets/tagalog_newspapers/preprocessed_news_articles_136k.csv\")\n",
    "df.drop('Unnamed: 0', inplace=True, axis=1)\n",
    "print(f\"DATASET SHAPE: {df.shape}\")\n",
    "df.head()"
   ]
  },
  {
   "cell_type": "markdown",
   "metadata": {},
   "source": [
    "Create corpus from dataframe."
   ]
  },
  {
   "cell_type": "code",
   "execution_count": null,
   "metadata": {},
   "outputs": [],
   "source": [
    "raw_corpus = df.Text\n",
    "corpus = df.Processed\n",
    "corpus"
   ]
  },
  {
   "cell_type": "markdown",
   "metadata": {},
   "source": [
    "# EXTRACTING SENTENCE EMBEDDINGS"
   ]
  },
  {
   "cell_type": "markdown",
   "metadata": {},
   "source": [
    "DOWNLOADING PRETRAINED MODEL:\n",
    "\n",
    "* Model Name: roberta-tagalog-base\n",
    "* Source: https://huggingface.co/jcblaise/roberta-tagalog-base\n",
    "* By: Jan Christian Blaise Cruz - https://blaisecruz.com"
   ]
  },
  {
   "cell_type": "code",
   "execution_count": null,
   "metadata": {},
   "outputs": [],
   "source": [
    "# pretrained_model_name = \"jcblaise/roberta-tagalog-base\"\n",
    "# model = SentenceTransformer(pretrained_model_name)\n",
    "# save_as_pckl(model, \"model/roberta-tagalog-model.pkl\")"
   ]
  },
  {
   "cell_type": "markdown",
   "metadata": {},
   "source": [
    "Loading model from pickle file."
   ]
  },
  {
   "cell_type": "code",
   "execution_count": null,
   "metadata": {},
   "outputs": [],
   "source": [
    "model = load_pickle(\"model/roberta-tagalog-model.pkl\")"
   ]
  },
  {
   "cell_type": "markdown",
   "metadata": {},
   "source": [
    "Extracting corpus sentence embeddings using the pretrained model and saving it to a pickle file for future usage."
   ]
  },
  {
   "cell_type": "code",
   "execution_count": null,
   "metadata": {},
   "outputs": [],
   "source": [
    "# sentence_embeddings = model.encode(corpus, show_progress_bar=True)\n",
    "# save_as_pckl(sentence_embeddings, \"tagalog_datasets/tagalog_newspapers/sentence_embeddings_preprocessed_136k.pkl\")"
   ]
  },
  {
   "cell_type": "markdown",
   "metadata": {},
   "source": [
    "Loading the sentence embeddings from pickle file."
   ]
  },
  {
   "cell_type": "code",
   "execution_count": null,
   "metadata": {},
   "outputs": [],
   "source": [
    "sentence_embeddings = load_pickle(\"tagalog_datasets/tagalog_newspapers/sentence_embeddings_preprocessed_136k.pkl\")\n",
    "print(f\"Sentence Emeddings Shape: {sentence_embeddings.shape}\")\n",
    "print(f\"Embeddings Array: {sentence_embeddings}\")"
   ]
  },
  {
   "cell_type": "markdown",
   "metadata": {},
   "source": [
    "# DIMENSIONALITY REDUCTION"
   ]
  },
  {
   "cell_type": "markdown",
   "metadata": {},
   "source": [
    "Reducing dimensions using Uniform Manifold Applicaitons Projections (UMAP)."
   ]
  },
  {
   "cell_type": "code",
   "execution_count": null,
   "metadata": {},
   "outputs": [],
   "source": [
    "umap_embeddings = umap_dim_reductor(sentence_embeddings, n_neighbors=30)\n",
    "print(f\"Sentence Emeddings Shape (reduced dimensions): {umap_embeddings.shape}\")"
   ]
  },
  {
   "cell_type": "markdown",
   "metadata": {},
   "source": [
    "Creating Dataframe from the sentence embeddings reduced dimensions."
   ]
  },
  {
   "cell_type": "code",
   "execution_count": null,
   "metadata": {},
   "outputs": [],
   "source": [
    "umap_df = pd.DataFrame(umap_embeddings, columns=['x', 'y'])\n",
    "umap_df['text'] = raw_corpus\n",
    "umap_df.head()"
   ]
  },
  {
   "cell_type": "markdown",
   "metadata": {},
   "source": [
    "# RAW DATA VISUALIZATION"
   ]
  },
  {
   "cell_type": "markdown",
   "metadata": {},
   "source": [
    "Visualize unclustered sentence embeddings."
   ]
  },
  {
   "cell_type": "code",
   "execution_count": null,
   "metadata": {},
   "outputs": [],
   "source": [
    "visualize_raw_df(umap_df, \"Tagalog News Articles\")"
   ]
  },
  {
   "cell_type": "markdown",
   "metadata": {},
   "source": [
    "# CLUSTERING USING HDBSCAN"
   ]
  },
  {
   "cell_type": "markdown",
   "metadata": {},
   "source": [
    "Create clusters using Hierarchical Density-Based Spatial Clustering of Applications with Noise (HDBSCAN)."
   ]
  },
  {
   "cell_type": "code",
   "execution_count": null,
   "metadata": {},
   "outputs": [],
   "source": [
    "clusterer = hdbscan_clusterer(umap_embeddings, min_cluster_size=450)\n",
    "clustered_result = pd.DataFrame(umap_embeddings, columns=['x', 'y'])\n",
    "clustered_result['text'] = raw_corpus\n",
    "clustered_result['labels'] = clusterer.labels_\n",
    "clustered_result.head()"
   ]
  },
  {
   "cell_type": "markdown",
   "metadata": {},
   "source": [
    "# CLUSTERED DATA VISUALIZATION"
   ]
  },
  {
   "cell_type": "code",
   "execution_count": null,
   "metadata": {
    "scrolled": false
   },
   "outputs": [],
   "source": [
    "labels, clusters =  get_number_of_clusters(clustered_result.labels)\n",
    "print(f\"\\nThere are a total of '{clusters}' clusters generated.\\n\")\n",
    "print('Setence Distribution per Clusters:\\n')\n",
    "print(labels)\n",
    "visualize_clustered_df(clustered_result, \"Tagalog News Articles (clustered with outliers)\")"
   ]
  },
  {
   "cell_type": "code",
   "execution_count": null,
   "metadata": {},
   "outputs": [],
   "source": [
    "outliers = clustered_result[clustered_result.labels == -1]\n",
    "visualize_clustered_df(outliers, \"Tagalog News Articles (outliers)\")"
   ]
  },
  {
   "cell_type": "markdown",
   "metadata": {},
   "source": [
    "# REMOVING OUTLIERS"
   ]
  },
  {
   "cell_type": "code",
   "execution_count": null,
   "metadata": {},
   "outputs": [],
   "source": [
    "without_outliers = clustered_result[clustered_result.labels != -1]\n",
    "visualize_clustered_df(without_outliers, \"Tagalog News Paper (clustered without outliers)\")"
   ]
  },
  {
   "cell_type": "markdown",
   "metadata": {},
   "source": [
    "# TF-IDF OF TOP WORDS"
   ]
  },
  {
   "cell_type": "code",
   "execution_count": null,
   "metadata": {},
   "outputs": [],
   "source": [
    "_clustered_result = pd.DataFrame(umap_embeddings, columns=['x', 'y'])\n",
    "_clustered_result['text'] = corpus\n",
    "_clustered_result['labels'] = clusterer.labels_"
   ]
  },
  {
   "cell_type": "code",
   "execution_count": null,
   "metadata": {},
   "outputs": [],
   "source": [
    "docs_df = pd.DataFrame(_clustered_result, columns=[\"text\"])\n",
    "docs_df['Topic'] = clusterer.labels_\n",
    "docs_df['Doc_ID'] = range(len(docs_df))\n",
    "docs_df.head()"
   ]
  },
  {
   "cell_type": "code",
   "execution_count": null,
   "metadata": {},
   "outputs": [],
   "source": [
    "docs_per_topic = docs_df.groupby(['Topic'], as_index = False).agg({'text': ' '.join})\n",
    "docs_per_topic.head()"
   ]
  },
  {
   "cell_type": "code",
   "execution_count": null,
   "metadata": {},
   "outputs": [],
   "source": [
    "tf_idf, count = c_tf_idf(docs_per_topic.text.values, m=len(clustered_result))"
   ]
  },
  {
   "cell_type": "code",
   "execution_count": null,
   "metadata": {},
   "outputs": [],
   "source": [
    "top_n_words = extract_top_n_words_per_topic(tf_idf, count, docs_per_topic, n=50)\n",
    "topic_sizes = extract_topic_sizes(docs_df)\n",
    "topic_sizes"
   ]
  },
  {
   "cell_type": "code",
   "execution_count": null,
   "metadata": {},
   "outputs": [],
   "source": [
    "n = 0\n",
    "for rows in topic_sizes.Topic:\n",
    "    generate_word_cloud(top_n_words, rows, n)\n",
    "    n = n + 1"
   ]
  },
  {
   "cell_type": "markdown",
   "metadata": {},
   "source": []
  },
  {
   "cell_type": "markdown",
   "metadata": {},
   "source": []
  },
  {
   "cell_type": "markdown",
   "metadata": {},
   "source": []
  },
  {
   "cell_type": "markdown",
   "metadata": {},
   "source": []
  },
  {
   "cell_type": "markdown",
   "metadata": {},
   "source": []
  },
  {
   "cell_type": "markdown",
   "metadata": {},
   "source": [
    "# CLUSTERING THE OUTLIERS"
   ]
  },
  {
   "cell_type": "code",
   "execution_count": null,
   "metadata": {},
   "outputs": [],
   "source": [
    "outliers_df = pd.DataFrame(list(outliers.text),  columns=['text'])\n",
    "outliers_df"
   ]
  },
  {
   "cell_type": "code",
   "execution_count": null,
   "metadata": {},
   "outputs": [],
   "source": [
    "outliers_embeddings = model.encode(outliers_df.text)"
   ]
  },
  {
   "cell_type": "code",
   "execution_count": null,
   "metadata": {},
   "outputs": [],
   "source": [
    "outliers_embeddings.shape"
   ]
  },
  {
   "cell_type": "code",
   "execution_count": null,
   "metadata": {},
   "outputs": [],
   "source": [
    "umap_outlier_embeddings = umap_dim_reductor(outliers_embeddings, n_neighbors=20)\n",
    "umap_outlier_df = pd.DataFrame(umap_outlier_embeddings, columns=['x', 'y'])\n",
    "umap_outlier_df['text'] = outliers_df.text"
   ]
  },
  {
   "cell_type": "code",
   "execution_count": null,
   "metadata": {},
   "outputs": [],
   "source": [
    "visualize_raw_df(umap_outlier_df, \"Outliers Raw\")"
   ]
  },
  {
   "cell_type": "code",
   "execution_count": null,
   "metadata": {},
   "outputs": [],
   "source": [
    "clusterer = hdbscan_clusterer(umap_outlier_embeddings, min_cluster_size=30)\n",
    "clustered_outliers_result = pd.DataFrame(umap_outlier_embeddings, columns=['x', 'y'])\n",
    "clustered_outliers_result['text'] = outliers_df.text\n",
    "clustered_outliers_result['labels'] = clusterer.labels_\n",
    "clustered_outliers_result.head()"
   ]
  },
  {
   "cell_type": "code",
   "execution_count": null,
   "metadata": {},
   "outputs": [],
   "source": [
    "o_labels, o_clusters =  get_number_of_clusters(clustered_outliers_result.labels)\n",
    "print(f\"\\nClusters: {clusters}\\n\")\n",
    "print('Setence Distribution per Clusters:\\n')\n",
    "print(o_labels)\n",
    "visualize_clustered_df(clustered_outliers_result, \"Outliers Clustered\")"
   ]
  }
 ],
 "metadata": {
  "kernelspec": {
   "display_name": "Python 3 (ipykernel)",
   "language": "python",
   "name": "python3"
  },
  "language_info": {
   "codemirror_mode": {
    "name": "ipython",
    "version": 3
   },
   "file_extension": ".py",
   "mimetype": "text/x-python",
   "name": "python",
   "nbconvert_exporter": "python",
   "pygments_lexer": "ipython3",
   "version": "3.9.13"
  },
  "vscode": {
   "interpreter": {
    "hash": "ed1c8f8a1513f6048d92d034505f887cb3de4cfe46996c864dc38a5b4372ce4d"
   }
  }
 },
 "nbformat": 4,
 "nbformat_minor": 2
}
